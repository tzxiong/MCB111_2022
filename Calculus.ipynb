{
 "cells": [
  {
   "cell_type": "markdown",
   "id": "223de5e7-81ac-4436-a85d-ec372678ba77",
   "metadata": {},
   "source": [
    "# Calculus Refresher"
   ]
  },
  {
   "cell_type": "markdown",
   "id": "5506c82b-47f5-4409-a0a3-f55cb829b9ec",
   "metadata": {},
   "source": [
    "In this notebook we will review fundamental concepts in calculus"
   ]
  },
  {
   "cell_type": "code",
   "execution_count": 1,
   "id": "a3c9181f-88ef-4cb9-add2-b5c133b72a82",
   "metadata": {},
   "outputs": [],
   "source": [
    "## Written in Python 3.x\n",
    "import numpy as np\n",
    "import math\n",
    "from matplotlib import pyplot as plt"
   ]
  },
  {
   "cell_type": "markdown",
   "id": "e19a97c4-4bd0-4a78-812b-a1c1259ea6f1",
   "metadata": {},
   "source": [
    "#### Calculus: \"inventing\" a set of symbols, operations, and rules, so we can work with smooth and continuous objects"
   ]
  },
  {
   "cell_type": "markdown",
   "id": "f9837ccb-1601-42f4-a548-022698859d9d",
   "metadata": {
    "tags": []
   },
   "source": [
    "### 1. Limit and derivative\n",
    "\n",
    "In many real world situations we want to know the rate of a process.\n",
    "\n",
    "**Example:** A bacterial population in a petri dish is growing without control. If you are a microbiologist that knows how to count bacteria, you want to know how fast they are growing, what would be the simplest experiment to do?"
   ]
  },
  {
   "cell_type": "markdown",
   "id": "ea9dae7e-b372-416e-bded-9b096bded179",
   "metadata": {
    "tags": []
   },
   "source": [
    "Measure population size $y_1$ at time $t_1$, and population size $y_2$ at time $t_2$, then take the ratio:\n",
    "\n",
    "$$\n",
    "\\mathrm{rate} \\approx \\frac{y_2-y_1}{t_2-t_1}\n",
    "$$"
   ]
  },
  {
   "cell_type": "markdown",
   "id": "2f53cd56-ffa8-4814-b608-a0586f3a5b6c",
   "metadata": {
    "tags": []
   },
   "source": [
    "If $t_2$ and $t_1$ are sufficiently close, the rate could be interpretted as an instantaneous rate:\n",
    "\n",
    "$$\n",
    "\\mathrm{Instantaneous\\;rate\\;at\\;}t_1: \\lim_{t_2\\to t_1} \\frac{y_2-y_1}{t_2-t_1}\n",
    "$$"
   ]
  },
  {
   "cell_type": "markdown",
   "id": "394be3c2-7549-438b-933b-138a8dfd44e2",
   "metadata": {
    "tags": []
   },
   "source": [
    "Instantaneous rate is the intuition for **derivative**:\n",
    "\n",
    "$$\n",
    "\\mathrm{Instantaneous\\;rate\\;at\\;}t: y'(t) = \\lim_{\\Delta t\\to 0} \\frac{y(t+\\Delta t)-y(t)}{\\Delta t}\n",
    "$$"
   ]
  },
  {
   "cell_type": "markdown",
   "id": "a1babe7d-ea06-4e7f-9a69-495d400e8a21",
   "metadata": {
    "tags": []
   },
   "source": [
    "**Reversed example:** Suppose you are a math student and do not know how to count bacteria, but you know the **functional form** of bacterial growth, which happened to be exponential: \n",
    "\n",
    "$$\n",
    "y(t)=e^t\n",
    "$$\n",
    "\n",
    "The population size is $1$ at time $0$, and is $e^t$ at time $t$. What is the growth rate at time $0$?"
   ]
  },
  {
   "cell_type": "markdown",
   "id": "34b718ba-9550-45c4-909a-45f36ca21649",
   "metadata": {
    "tags": []
   },
   "source": [
    "To solve the problem, we need to solve:\n",
    "$$\n",
    "y'(0)=\\lim_{t\\to 0} \\frac{e^t-1}{t-0} = ?\n",
    "$$"
   ]
  },
  {
   "cell_type": "code",
   "execution_count": 18,
   "id": "0fe199d3-f2ae-4875-a66a-dd47434df498",
   "metadata": {
    "tags": []
   },
   "outputs": [],
   "source": [
    "## we can use python to plot this function and just eye-balling the result\n",
    "\n",
    "n = np.arange(1,100,0.1)\n",
    "y = []\n",
    "for i in n:\n",
    "    x = 1/i\n",
    "    y.append((np.exp(x)-1)/x)"
   ]
  },
  {
   "cell_type": "code",
   "execution_count": 21,
   "id": "27022dfa-b856-4e3e-baf6-53a6238b8486",
   "metadata": {},
   "outputs": [
    {
     "data": {
      "image/png": "[encoded data removed]",
      "text/plain": [
       "<Figure size 640x480 with 1 Axes>"
      ]
     },
     "metadata": {},
     "output_type": "display_data"
    }
   ],
   "source": [
    "plt.plot(1/n,y)\n",
    "plt.xlabel(\"t\")\n",
    "plt.ylabel(\"(e^t-1)/t\")\n",
    "plt.show()"
   ]
  },
  {
   "cell_type": "markdown",
   "id": "d986e82c-f9cc-46a6-b981-1b46db788537",
   "metadata": {},
   "source": [
    "**Analytical rules for derivatives**\n",
    "\n",
    "Algebraic rules:\n",
    "$$\n",
    "\\begin{align*}\n",
    "(f+g)' & = f' + g'\\\\\n",
    "(fg)' &= f'g + g'f\\\\\n",
    "\\left(\\frac{f}{g}\\right)'&=\\frac{f'g-g'f}{g^2}\\\\\n",
    "\\end{align*}\n",
    "$$\n",
    "\n",
    "The chain rule:\n",
    "$$\n",
    "\\begin{align*}\n",
    "f(g(x))' = f'(g(x)) g'(x)\n",
    "\\end{align*}\n",
    "$$\n",
    "\n",
    "Change of variables (we use another derivative symbol):\n",
    "$$\n",
    "\\begin{align*}\n",
    "y'(x)=\\frac{dy}{dx} = \\frac{dy}{du}\\frac{du}{dx}=y'(u)u'(x)\n",
    "\\end{align*}\n",
    "$$"
   ]
  },
  {
   "cell_type": "markdown",
   "id": "016bd065-75b9-4a1f-bad5-5183b2fec6bf",
   "metadata": {},
   "source": [
    "**In many cases, the analytical form of a function's derivative is known:**\n",
    "\n",
    "$$\n",
    "\\begin{align*}\n",
    "(x^a)' &= ax^{a-1}\\\\\n",
    "(a^x)' &= a^x\\ln a\\\\\n",
    "(\\log_a x)' &=\\frac{1}{x \\ln a}\\\\\n",
    "\\end{align*}\n",
    "$$\n",
    "\n",
    "(Ask Google)"
   ]
  },
  {
   "cell_type": "markdown",
   "id": "643b32f8-51e8-46d9-919c-d87aed3d2e95",
   "metadata": {},
   "source": [
    "In the bacterial growth example, since $y(t)=e^t$, we immediately know that $y'(t)=e^t$, and so $y'(0)=1$. This does not require us to directly compute the limit."
   ]
  },
  {
   "cell_type": "markdown",
   "id": "db7736be-42bb-4fad-b27f-d2765695399e",
   "metadata": {},
   "source": [
    "### 2. Taylor expansion"
   ]
  },
  {
   "cell_type": "markdown",
   "id": "806fd2a1-24e7-4b77-ae85-7a5e7f656276",
   "metadata": {},
   "source": [
    "Taylor expansion is the first tool we encounter that allows us to locally approximate a function.\n",
    "\n",
    "The basic form is to approximate a *differentiable* function using the sum of polynomials:\n",
    "\n",
    "$$\n",
    "y(x) = y(x_0) + y'(x_0)(x-x_0) + \\frac{1}{2}y''(x_0)(x-x_0)^2 + \\cdots + \\frac{1}{n!}f^{(n)}(x_0)(x-x_0)^n +\\cdots\n",
    "$$\n",
    "\n",
    "Let's approximate $y=e^x$ near $x_0=0$"
   ]
  },
  {
   "cell_type": "code",
   "execution_count": 70,
   "id": "19adeaf2-9143-47c1-8ab6-3b8be1c12038",
   "metadata": {},
   "outputs": [],
   "source": [
    "## approximate up to order n\n",
    "def partial_sum(n,x):\n",
    "    return np.sum([(x**i)/math.factorial(i) for i in range(n+1)])"
   ]
  },
  {
   "cell_type": "code",
   "execution_count": 72,
   "id": "7275e721-1029-40a0-a97c-675fcf97bb57",
   "metadata": {},
   "outputs": [
    {
     "data": {
      "image/png": "[encoded data removed]",
      "text/plain": [
       "<Figure size 640x480 with 1 Axes>"
      ]
     },
     "metadata": {},
     "output_type": "display_data"
    }
   ],
   "source": [
    "n = 3\n",
    "X = np.arange(-3,3,0.05)\n",
    "Y_approx = []\n",
    "Y_real = []\n",
    "for x in X:\n",
    "    \n",
    "    Y_real.append(np.exp(x))\n",
    "    Y_approx.append(partial_sum(n,x))\n",
    "    \n",
    "plt.plot(X,Y_real)\n",
    "plt.plot(X,Y_approx)\n",
    "plt.xlabel(\"x\")\n",
    "plt.legend([\"Real\",\"Approximate\"])\n",
    "plt.show()"
   ]
  },
  {
   "cell_type": "markdown",
   "id": "a2701709-a2e2-49a7-8c17-f737c7b6d77e",
   "metadata": {},
   "source": [
    "Next example is about $\\sin(x)$\n",
    "\n",
    "$$\n",
    "\\sin(x)=x-\\frac{x^3}{3!} + \\frac{x^5}{5!} -\\frac{x^7}{7!}\\cdots\n",
    "$$"
   ]
  },
  {
   "cell_type": "code",
   "execution_count": 62,
   "id": "7922e41b-8002-47fa-80f6-ec6960dba39e",
   "metadata": {},
   "outputs": [],
   "source": [
    "## approximate up to order n\n",
    "def partial_sum(n,x):\n",
    "    return np.sum([(-1)**i*(x**(2*i+1))/math.factorial(2*i+1) for i in range(n+1)])"
   ]
  },
  {
   "cell_type": "code",
   "execution_count": 69,
   "id": "1df17008-fbf5-45ad-87c1-17aa59184303",
   "metadata": {},
   "outputs": [
    {
     "data": {
      "image/png": "[encoded data removed]",
      "text/plain": [
       "<Figure size 640x480 with 1 Axes>"
      ]
     },
     "metadata": {},
     "output_type": "display_data"
    }
   ],
   "source": [
    "n = 10\n",
    "X = np.arange(-10,10,0.05)\n",
    "Y_approx = []\n",
    "Y_real = []\n",
    "for x in X:\n",
    "    \n",
    "    Y_real.append(np.sin(x))\n",
    "    Y_approx.append(partial_sum(n,x))\n",
    "    \n",
    "plt.plot(X,Y_real)\n",
    "plt.plot(X,Y_approx)\n",
    "plt.xlabel(\"x\")\n",
    "plt.ylim([-2,2])\n",
    "plt.legend([\"Real\",\"Approximate\"])\n",
    "plt.show()"
   ]
  },
  {
   "cell_type": "markdown",
   "id": "cfef2e35-a659-46bb-90b3-a3c5c719be08",
   "metadata": {},
   "source": [
    "Taylor series is very useful. Let's go back to the bacterial growth problem and directly calculate the limit\n",
    "\n",
    "$$\n",
    "y'(0)=\\lim_{t\\to 0} \\frac{e^t-1}{t-0}\n",
    "$$\n",
    "\n",
    "\\[Work on the black board\\]"
   ]
  },
  {
   "cell_type": "markdown",
   "id": "06d0c168-dcec-44ae-876b-8f8ca8c17607",
   "metadata": {},
   "source": [
    "### 3. Integral"
   ]
  },
  {
   "cell_type": "markdown",
   "id": "85883eae-ff98-442a-969b-85fe8ad07db9",
   "metadata": {
    "tags": []
   },
   "source": [
    "**Definite integral** is the summation of many many infinitely small parts\n",
    "\n",
    "A fundamental relation in Calculus:\n",
    "\n",
    "$$\n",
    "\\int_a^b f(x)dx = F(b)-F(a)\n",
    "$$\n",
    "\n",
    "where $f(x)$ is the derivative of $F(x)$"
   ]
  },
  {
   "cell_type": "markdown",
   "id": "f78ed28c-ae88-4657-be9c-37c5f25caefd",
   "metadata": {},
   "source": [
    "Example: What's the average population size of bacteria that have ever existed up to time $t$ in the exponential growth process?"
   ]
  },
  {
   "cell_type": "markdown",
   "id": "5176f19d-a2b2-4eea-bd36-7cbf5801dfbf",
   "metadata": {},
   "source": [
    "$$\n",
    "\\frac{1}{t}\\int_0^t e^x dx = \\frac{e^t-1}{t}\n",
    "$$"
   ]
  },
  {
   "cell_type": "markdown",
   "id": "960aff40-9ad1-4e20-b4e1-fdad7890debe",
   "metadata": {},
   "source": [
    "**Techniques and rules of integration**\n",
    "\n",
    "Linearity:\n",
    "\n",
    "$$\n",
    "\\int_a^b [c_1 f(x) + c_2 g(x)] dx = c_1 \\int_a^b f(x)dx + c_2 \\int_a^b g(x)dx\n",
    "$$\n",
    "\n",
    "Integration by part:\n",
    "\n",
    "$$\n",
    "\\int_a^b f(x)g(x) dx = \\int_a^b f(x) dG(x) = f(x)G(x)\\big|_{a}^b - \\int_a^b G(x) df(x)\n",
    "$$\n",
    "\n",
    "Exchanging differentiation and integration with respect to different variables is OK *in most cases*:\n",
    "\n",
    "$$\n",
    "\\frac{d}{dy}\\int_a^b f(x,y) dx = \\int_a^b \\left[\\frac{d}{dy} f(x,y)\\right] dx\n",
    "$$\n",
    "\n",
    "You can also integrate an infinite series *in most cases*:\n",
    "\n",
    "$$\n",
    "\\int_a^b (f_1(x)+f_2(x)+\\cdots) dx = \\int_a^b f_1(x)dx + \\int_a^b f_2(x)dx + \\cdots\n",
    "$$"
   ]
  },
  {
   "cell_type": "markdown",
   "id": "ea010531-ec85-44f4-9840-013c9eb15254",
   "metadata": {},
   "source": [
    "### 4. Differential equations"
   ]
  },
  {
   "cell_type": "markdown",
   "id": "9761cb8e-b0ea-4043-ab35-ac1211e5c592",
   "metadata": {},
   "source": [
    "DEquations describe the local behavior of a system"
   ]
  },
  {
   "cell_type": "markdown",
   "id": "ede3bcc2-327b-4b1e-88ae-00fcc5daafda",
   "metadata": {},
   "source": [
    "**Bacteria example revisited.** How do you convince your experimentalist colleague that the exponential function is indeed the growth curve for bacteria?"
   ]
  },
  {
   "cell_type": "markdown",
   "id": "0f796200-cb35-478a-a14f-789b4046c4a8",
   "metadata": {},
   "source": [
    "Every model comes with assumptions: each bacteria individual divides with a fixed rate $r$, so in a small time window $\\Delta t$, approximately a fraction $r\\Delta t$ of the population divide. Further, assume they are immortal. Then"
   ]
  },
  {
   "cell_type": "markdown",
   "id": "55b7b128-2227-4bb5-9b88-2e3fd10f7f9c",
   "metadata": {},
   "source": [
    "$$\n",
    "y(t+\\Delta t)\\approx y(t) + r\\Delta t y(t) \n",
    "$$"
   ]
  },
  {
   "cell_type": "markdown",
   "id": "4795b9a2-e4c4-4ae9-949f-ee07cd7cf03c",
   "metadata": {},
   "source": [
    "This is equivalent to say that\n",
    "$$\n",
    "\\frac{y(t+\\Delta t)-y(t)}{\\Delta t}\\approx r y(t)\n",
    "$$\n",
    "HAS TO BE TRUE FOR ALL $t$. \n",
    "\n",
    "Now, what function $y(t)$ satisfies this relationship for all $t$? "
   ]
  },
  {
   "cell_type": "markdown",
   "id": "c18fc67a-b6dc-4119-ae7f-61659e24dba5",
   "metadata": {},
   "source": [
    "We take $\\Delta t\\to 0$, which gives us $y'(t)=ry(t)$. This is one of the simplest differential equations."
   ]
  },
  {
   "cell_type": "markdown",
   "id": "ea91ed83-557d-44f2-a7a6-8a8bc4be3b26",
   "metadata": {},
   "source": [
    "To solve differential equations, there are complex rules and tools, but simple ones are easy to handle:\n",
    "\n",
    "$$\n",
    "\\frac{dy}{dt}=ry \\Rightarrow \\frac{dy}{y}=rdt \\Rightarrow \\int \\frac{dy}{y} = \\int rdt\n",
    "$$"
   ]
  },
  {
   "cell_type": "markdown",
   "id": "478903ef-253f-4ad4-8a1c-2cdfdb8162a1",
   "metadata": {},
   "source": [
    "Working out the integral, we have\n",
    "\n",
    "$$\n",
    "\\ln y = rt + C \\Rightarrow y=Ce^{rt} \n",
    "$$"
   ]
  },
  {
   "cell_type": "markdown",
   "id": "07aca0d6-456f-4113-a436-41cecdb43690",
   "metadata": {},
   "source": [
    "Now your experimentalist colleague finally sees where the exponential function comes from. He can now measure $y$ and $t$ at different time points and get an estimate of parameters $C$ and $r$."
   ]
  },
  {
   "cell_type": "code",
   "execution_count": null,
   "id": "c65be9e6-f4ca-498b-afaf-1963af0a3b1d",
   "metadata": {},
   "outputs": [],
   "source": []
  }
 ],
 "metadata": {
  "kernelspec": {
   "display_name": "Python (EnvPy3.9)",
   "language": "python",
   "name": "envpy3.9"
  },
  "language_info": {
   "codemirror_mode": {
    "name": "ipython",
    "version": 3
   },
   "file_extension": ".py",
   "mimetype": "text/x-python",
   "name": "python",
   "nbconvert_exporter": "python",
   "pygments_lexer": "ipython3",
   "version": "3.9.6"
  }
 },
 "nbformat": 4,
 "nbformat_minor": 5
}
